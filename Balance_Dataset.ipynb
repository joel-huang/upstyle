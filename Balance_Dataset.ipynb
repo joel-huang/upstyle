{
 "cells": [
  {
   "cell_type": "code",
   "execution_count": 77,
   "metadata": {},
   "outputs": [
    {
     "name": "stdout",
     "output_type": "stream",
     "text": [
      "Before length : 139709\n",
      "Before length : 58963\n"
     ]
    }
   ],
   "source": [
    "import pandas as pd\n",
    "\n",
    "def order_col(dataframe):\n",
    "    print(dataframe.sum().sort_values(ascending=False))\n",
    "\n",
    "def total_count(dataframe, show_count = True, delete=False):\n",
    "    dataframe['total'] = dataframe.sum(axis=1,numeric_only = True)\n",
    "    if show_count == True:\n",
    "        print(dataframe.groupby(by = 'total').count())\n",
    "    if delete == True:\n",
    "        print(\"Before length :\", len(dataframe))\n",
    "        return dataframe.drop(dataframe[dataframe.total == 0].index)\n",
    "        print(\"After length :\", len(dataframe))\n",
    "        \n",
    "directory = '/home/joel/Downloads/'\n",
    "df_upper = pd.read_csv(directory + 'anno/df_upper.csv')\n",
    "df_lower = pd.read_csv(directory + 'anno/df_lower.csv')\n",
    "df_upper = total_count(df_upper, show_count = False, delete = True)\n",
    "df_lower = total_count(df_lower, show_count = False, delete = True)\n",
    "\n",
    "def drop_lower(dataframe, min_attributes):\n",
    "    del dataframe['total']\n",
    "    dataframe['total'] = dataframe.sum(axis=1)\n",
    "    return dataframe.drop(dataframe[dataframe.total < min_attributes].index)\n",
    "\n",
    "def oversample(df_undersampled, df_full, col_name, min_num):\n",
    "    # Add one-hot rows only. Failing to do this will result in >3000 samples.\n",
    "    all_extra_rows = df_full[(df_full[col_name]==1) & (df_full['total']==1)] \n",
    "    current_count = len(df_undersampled[df_undersampled[col_name] == 1].index)\n",
    "    num_rows_to_add = min_num - current_count\n",
    "    if num_rows_to_add < 1:\n",
    "        return df_undersampled\n",
    "    all_extra_rows = all_extra_rows[:num_rows_to_add]\n",
    "    df_undersampled = df_undersampled.append(all_extra_rows)\n",
    "    print('{}: length {}, oversample appending {} for a final of {}'.format(col_name,current_count,len(all_extra_rows.index),len(df_undersampled.index)))\n",
    "    return df_undersampled\n",
    "\n",
    "def undersample(df_oversampled, col_name, target_num):\n",
    "    oversampled_rows = df_oversampled[df_oversampled[col_name] == 1]\n",
    "    undersampled = oversampled_rows.sample(n=target_num)\n",
    "    print('{}: length {}, undersampling for a final of {}'.format(col_name,len(oversampled_rows.index),len(undersampled.index)))\n",
    "    return undersampled\n",
    "\n",
    "def balance_dataframe(dataframe, num_samples, dataset):\n",
    "    full_set = df_upper if (dataset == 'upper') else df_lower\n",
    "    for column in dataframe:\n",
    "        if 'total' not in column and 'image_name' not in column:\n",
    "            if len(dataframe[dataframe[column] == 1]) < num_samples:\n",
    "                dataframe = oversample(dataframe, full_set, column, num_samples)\n",
    "            else:\n",
    "                dataframe = undersample(dataframe, column, num_samples)\n",
    "    return dataframe\n",
    "\n",
    "df_upper_trunc = drop_lower(df_upper, 3)\n",
    "df_lower_trunc = drop_lower(df_lower, 2)"
   ]
  },
  {
   "cell_type": "code",
   "execution_count": 78,
   "metadata": {},
   "outputs": [
    {
     "name": "stdout",
     "output_type": "stream",
     "text": [
      "paisley: length 426, oversample appending 171 for a final of 12202\n",
      "graphic: length 4692, undersampling for a final of 2500\n",
      "palm: length 34, oversample appending 192 for a final of 2692\n",
      "zigzag: length 14, oversample appending 45 for a final of 2737\n",
      "floral: length 947, oversample appending 1553 for a final of 4290\n",
      "stripe: length 276, oversample appending 2224 for a final of 6514\n",
      "abstract: length 378, oversample appending 374 for a final of 6888\n",
      "animal: length 208, oversample appending 159 for a final of 7047\n",
      "tribal: length 248, oversample appending 275 for a final of 7322\n",
      "dot: length 157, oversample appending 903 for a final of 8225\n",
      "knit: length 187, oversample appending 2313 for a final of 10538\n",
      "denim: length 68, oversample appending 1420 for a final of 11958\n",
      "leather: length 43, oversample appending 1908 for a final of 13866\n",
      "lace: length 172, oversample appending 2328 for a final of 16194\n",
      "pleated: length 80, oversample appending 401 for a final of 16595\n",
      "fur: length 16, oversample appending 594 for a final of 17189\n",
      "chiffon: length 520, oversample appending 1427 for a final of 18616\n",
      "embroidered: length 43, oversample appending 1108 for a final of 19724\n",
      "sheer: length 162, oversample appending 792 for a final of 20516\n",
      "cotton: length 201, oversample appending 1380 for a final of 21896\n",
      "sleeve: length 832, oversample appending 1668 for a final of 23564\n",
      "sleeveless: length 185, oversample appending 1146 for a final of 24710\n",
      "collar: length 139, oversample appending 1675 for a final of 26385\n",
      "collarless: length 50, oversample appending 538 for a final of 26923\n",
      "long-sleeve: length 405, oversample appending 0 for a final of 26923\n",
      "pocket: length 178, oversample appending 1588 for a final of 28511\n",
      "v-neck: length 99, oversample appending 1553 for a final of 30064\n",
      "button: length 196, oversample appending 1550 for a final of 31614\n",
      "hooded: length 39, oversample appending 1752 for a final of 33366\n",
      "zipper: length 111, oversample appending 1468 for a final of 34834\n"
     ]
    }
   ],
   "source": [
    "df_upper_trunc = balance_dataframe(df_upper_trunc, 2500, dataset='upper')"
   ]
  },
  {
   "cell_type": "code",
   "execution_count": 79,
   "metadata": {},
   "outputs": [
    {
     "name": "stdout",
     "output_type": "stream",
     "text": [
      "paisley: length 552, oversample appending 113 for a final of 20387\n",
      "graphic: length 6208, undersampling for a final of 2000\n",
      "palm: length 65, oversample appending 29 for a final of 2029\n",
      "zigzag: length 10, oversample appending 51 for a final of 2080\n",
      "floral: length 593, oversample appending 1222 for a final of 3302\n",
      "stripe: length 82, oversample appending 1263 for a final of 4565\n",
      "abstract: length 201, oversample appending 86 for a final of 4651\n",
      "animal: length 165, oversample appending 68 for a final of 4719\n",
      "tribal: length 283, oversample appending 158 for a final of 4877\n",
      "dot: length 35, oversample appending 571 for a final of 5448\n",
      "wash: length 21, oversample appending 1368 for a final of 6816\n",
      "pleated: length 167, oversample appending 1011 for a final of 7827\n",
      "ripped: length 25, oversample appending 998 for a final of 8825\n",
      "knit: length 53, oversample appending 1003 for a final of 9828\n",
      "denim: length 159, oversample appending 1841 for a final of 11669\n",
      "leather: length 29, oversample appending 1015 for a final of 12684\n",
      "cotton: length 80, oversample appending 557 for a final of 13241\n",
      "fit: length 65, oversample appending 813 for a final of 14054\n",
      "pencil: length 94, oversample appending 967 for a final of 15021\n",
      "capri: length 47, oversample appending 955 for a final of 15976\n",
      "midi: length 79, oversample appending 380 for a final of 16356\n",
      "mini: length 143, oversample appending 947 for a final of 17303\n",
      "maxi: length 148, oversample appending 734 for a final of 18037\n",
      "drawstring: length 146, oversample appending 1487 for a final of 19524\n",
      "cuffed: length 12, oversample appending 302 for a final of 19826\n",
      "pocket: length 14, oversample appending 294 for a final of 20120\n",
      "button: length 22, oversample appending 166 for a final of 20286\n",
      "zipper: length 23, oversample appending 454 for a final of 20740\n",
      "high-waist: length 27, oversample appending 409 for a final of 21149\n"
     ]
    }
   ],
   "source": [
    "df_lower_trunc = balance_dataframe(df_lower_trunc, 2000, dataset='lower')"
   ]
  },
  {
   "cell_type": "code",
   "execution_count": 80,
   "metadata": {},
   "outputs": [],
   "source": [
    "df_upper_trunc.drop(columns=['abstract','fur','collarless','tribal','pleated','long-sleeve','animal','palm','paisley','zigzag','total'], inplace=True)"
   ]
  },
  {
   "cell_type": "code",
   "execution_count": 81,
   "metadata": {},
   "outputs": [],
   "source": [
    "df_lower_trunc.drop(columns=['zipper','midi','tribal','high-waist','cuffed','pocket','abstract','animal','button','paisley','palm','zigzag','total'], inplace=True)"
   ]
  },
  {
   "cell_type": "code",
   "execution_count": 82,
   "metadata": {},
   "outputs": [
    {
     "name": "stdout",
     "output_type": "stream",
     "text": [
      "       image_name  graphic  floral  stripe    dot   knit  denim  leather  \\\n",
      "total                                                                      \n",
      "0            2578     2578    2578    2578   2578   2578   2578     2578   \n",
      "1           29824    29824   29824   29824  29824  29824  29824    29824   \n",
      "2             818      818     818     818    818    818    818      818   \n",
      "3            1205     1205    1205    1205   1205   1205   1205     1205   \n",
      "4             326      326     326     326    326    326    326      326   \n",
      "5              68       68      68      68     68     68     68       68   \n",
      "6              13       13      13      13     13     13     13       13   \n",
      "7               2        2       2       2      2      2      2        2   \n",
      "\n",
      "        lace  chiffon   ...    sheer  cotton  sleeve  sleeveless  collar  \\\n",
      "total                   ...                                                \n",
      "0       2578     2578   ...     2578    2578    2578        2578    2578   \n",
      "1      29824    29824   ...    29824   29824   29824       29824   29824   \n",
      "2        818      818   ...      818     818     818         818     818   \n",
      "3       1205     1205   ...     1205    1205    1205        1205    1205   \n",
      "4        326      326   ...      326     326     326         326     326   \n",
      "5         68       68   ...       68      68      68          68      68   \n",
      "6         13       13   ...       13      13      13          13      13   \n",
      "7          2        2   ...        2       2       2           2       2   \n",
      "\n",
      "       pocket  v-neck  button  hooded  zipper  \n",
      "total                                          \n",
      "0        2578    2578    2578    2578    2578  \n",
      "1       29824   29824   29824   29824   29824  \n",
      "2         818     818     818     818     818  \n",
      "3        1205    1205    1205    1205    1205  \n",
      "4         326     326     326     326     326  \n",
      "5          68      68      68      68      68  \n",
      "6          13      13      13      13      13  \n",
      "7           2       2       2       2       2  \n",
      "\n",
      "[8 rows x 21 columns]\n",
      "       image_name  graphic  floral  stripe    dot   wash  pleated  ripped  \\\n",
      "total                                                                       \n",
      "0            2397     2397    2397    2397   2397   2397     2397    2397   \n",
      "1           17273    17273   17273   17273  17273  17273    17273   17273   \n",
      "2            1136     1136    1136    1136   1136   1136     1136    1136   \n",
      "3             285      285     285     285    285    285      285     285   \n",
      "4              54       54      54      54     54     54       54      54   \n",
      "5               1        1       1       1      1      1        1       1   \n",
      "6               3        3       3       3      3      3        3       3   \n",
      "\n",
      "        knit  denim  leather  cotton    fit  pencil  capri   mini   maxi  \\\n",
      "total                                                                      \n",
      "0       2397   2397     2397    2397   2397    2397   2397   2397   2397   \n",
      "1      17273  17273    17273   17273  17273   17273  17273  17273  17273   \n",
      "2       1136   1136     1136    1136   1136    1136   1136   1136   1136   \n",
      "3        285    285      285     285    285     285    285    285    285   \n",
      "4         54     54       54      54     54      54     54     54     54   \n",
      "5          1      1        1       1      1       1      1      1      1   \n",
      "6          3      3        3       3      3       3      3      3      3   \n",
      "\n",
      "       drawstring  \n",
      "total              \n",
      "0            2397  \n",
      "1           17273  \n",
      "2            1136  \n",
      "3             285  \n",
      "4              54  \n",
      "5               1  \n",
      "6               3  \n"
     ]
    }
   ],
   "source": [
    "total_count(df_upper_trunc)\n",
    "total_count(df_lower_trunc)\n",
    "df_upper_trunc = df_upper_trunc[df_upper_trunc['total']!=0]\n",
    "df_lower_trunc = df_lower_trunc[df_lower_trunc['total']!=0]\n",
    "del df_upper_trunc['total']\n",
    "del df_lower_trunc['total']"
   ]
  },
  {
   "cell_type": "code",
   "execution_count": 83,
   "metadata": {},
   "outputs": [],
   "source": [
    "df_upper_trunc.sort_index(inplace=True)\n",
    "df_lower_trunc.sort_index(inplace=True)"
   ]
  },
  {
   "cell_type": "code",
   "execution_count": 84,
   "metadata": {},
   "outputs": [],
   "source": [
    "df_upper_trunc.to_csv(directory + 'anno/final_upper.csv', index=False)\n",
    "df_lower_trunc.to_csv(directory + 'anno/final_lower.csv', index=False)"
   ]
  }
 ],
 "metadata": {
  "kernelspec": {
   "display_name": "Python 3",
   "language": "python",
   "name": "python3"
  },
  "language_info": {
   "codemirror_mode": {
    "name": "ipython",
    "version": 3
   },
   "file_extension": ".py",
   "mimetype": "text/x-python",
   "name": "python",
   "nbconvert_exporter": "python",
   "pygments_lexer": "ipython3",
   "version": "3.6.6"
  }
 },
 "nbformat": 4,
 "nbformat_minor": 2
}
